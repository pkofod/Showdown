{
 "cells": [
  {
   "cell_type": "code",
   "execution_count": 1,
   "metadata": {},
   "outputs": [],
   "source": [
    "# Import numpy for numpy arrays and linspace\n",
    "import numpy as np\n",
    "\n",
    "# Import the two contestants\n",
    "import interpolation as itp\n",
    "from interpolation.splines import UCGrid, CGrid, nodes\n",
    "from interpolation.splines import eval_linear\n",
    "\n",
    "import HARK.interpolation as hitp\n",
    "\n",
    "# Import timeit module to compare runtimes\n",
    "import timeit"
   ]
  },
  {
   "cell_type": "code",
   "execution_count": 106,
   "metadata": {},
   "outputs": [],
   "source": [
    "# From manual, change to sum function to see what's what. This doesn't affect performance anyway\n",
    "# we interpolate function\n",
    "f = lambda x,y: x+y\n",
    "\n",
    "# uniform cartesian grid\n",
    "# slightly different from manual, easier to see the ij indexing this way\n",
    "grid = UCGrid((-3.0, 3.0, 10), (0.0, 3.0, 10))\n",
    "grid_c = CGrid((-3.0, 3.0, 10), (0.0, 3.0, 10))\n",
    "grid_irregular = (np.linspace(-3.0, 3.0, 10), np.linspace(0.0, 3.0, 10))\n",
    "# get grid points\n",
    "gp = nodes(grid)   # 100x2 matrix\n",
    "\n",
    "# compute values on grid points\n",
    "values = f(gp[:,0], gp[:,1]).reshape((10,10)) # note that we're evaluating the flattened mesh"
   ]
  },
  {
   "cell_type": "code",
   "execution_count": 107,
   "metadata": {},
   "outputs": [
    {
     "data": {
      "text/plain": [
       "array([-3.        , -2.66666667, -2.33333333, -2.        , -1.66666667,\n",
       "       -1.33333333, -1.        , -0.66666667, -0.33333333,  0.        ])"
      ]
     },
     "execution_count": 107,
     "metadata": {},
     "output_type": "execute_result"
    }
   ],
   "source": [
    "# values are stored in (i,j) fashion where rows are indexed by first state\n",
    "# indeces, and columns vary with second dimension\n",
    "values[0]"
   ]
  },
  {
   "cell_type": "code",
   "execution_count": 108,
   "metadata": {},
   "outputs": [],
   "source": [
    "# This is the Matrix version of the mesh grid\n",
    "gp;"
   ]
  },
  {
   "cell_type": "code",
   "execution_count": 109,
   "metadata": {},
   "outputs": [],
   "source": [
    "# interpolate at one point\n",
    "point = np.array([0.1,0.45]) # 1d array\n",
    "val = eval_linear(grid, values, point)  # float"
   ]
  },
  {
   "cell_type": "code",
   "execution_count": 110,
   "metadata": {},
   "outputs": [],
   "source": [
    "n_points = 10000\n",
    "n_repeat = 3000"
   ]
  },
  {
   "cell_type": "code",
   "execution_count": 93,
   "metadata": {},
   "outputs": [
    {
     "data": {
      "text/plain": [
       "array([0.86410036, 1.26563935, 0.97189667, ..., 0.55969459, 0.74755136,\n",
       "       1.21042595])"
      ]
     },
     "execution_count": 93,
     "metadata": {},
     "output_type": "execute_result"
    }
   ],
   "source": [
    "# interpolate at many points:\n",
    "points = np.random.random((n_points,2))\n",
    "eval_linear(grid, values, points) # 10000 vector"
   ]
  },
  {
   "cell_type": "code",
   "execution_count": 94,
   "metadata": {},
   "outputs": [],
   "source": [
    "# output can be preallocated\n",
    "out = np.zeros(n_points)\n",
    "eval_linear(grid, values, points, out)"
   ]
  },
  {
   "cell_type": "code",
   "execution_count": 114,
   "metadata": {},
   "outputs": [],
   "source": [
    "def time_eval_interpolation():\n",
    "    eval_linear(grid, values, points)\n",
    "def time_eval_interpolation_inplace():\n",
    "    eval_linear(grid, values, points, out)\n",
    "def time_eval_interpolation_c():\n",
    "    eval_linear(grid, values, points)\n",
    "def time_eval_interpolation_inplace_c():\n",
    "    eval_linear(grid, values, points, out)\n",
    "def time_eval_interpolation_irregular():\n",
    "    eval_linear(grid_irregular, values, points)\n",
    "def time_eval_interpolation_inplace_irregular():\n",
    "    eval_linear(grid_irregular, values, points, out)"
   ]
  },
  {
   "cell_type": "code",
   "execution_count": 115,
   "metadata": {},
   "outputs": [
    {
     "data": {
      "text/plain": [
       "0.27319195000018226"
      ]
     },
     "execution_count": 115,
     "metadata": {},
     "output_type": "execute_result"
    }
   ],
   "source": [
    "timeit.timeit(time_eval_interpolation, number=n_repeat)"
   ]
  },
  {
   "cell_type": "code",
   "execution_count": 116,
   "metadata": {},
   "outputs": [
    {
     "data": {
      "text/plain": [
       "0.2805492819998108"
      ]
     },
     "execution_count": 116,
     "metadata": {},
     "output_type": "execute_result"
    }
   ],
   "source": [
    "timeit.timeit(time_eval_interpolation_inplace, number=n_repeat)"
   ]
  },
  {
   "cell_type": "code",
   "execution_count": 117,
   "metadata": {},
   "outputs": [
    {
     "data": {
      "text/plain": [
       "0.2735433029993146"
      ]
     },
     "execution_count": 117,
     "metadata": {},
     "output_type": "execute_result"
    }
   ],
   "source": [
    "timeit.timeit(time_eval_interpolation_c, number=n_repeat)"
   ]
  },
  {
   "cell_type": "code",
   "execution_count": 118,
   "metadata": {},
   "outputs": [
    {
     "data": {
      "text/plain": [
       "0.2685396460001357"
      ]
     },
     "execution_count": 118,
     "metadata": {},
     "output_type": "execute_result"
    }
   ],
   "source": [
    "timeit.timeit(time_eval_interpolation_inplace_c, number=n_repeat)"
   ]
  },
  {
   "cell_type": "code",
   "execution_count": 98,
   "metadata": {},
   "outputs": [
    {
     "data": {
      "text/plain": [
       "0.8804915289997552"
      ]
     },
     "execution_count": 98,
     "metadata": {},
     "output_type": "execute_result"
    }
   ],
   "source": [
    "timeit.timeit(time_eval_interpolation_irregular, number=n_repeat)"
   ]
  },
  {
   "cell_type": "code",
   "execution_count": 99,
   "metadata": {},
   "outputs": [
    {
     "data": {
      "text/plain": [
       "0.8696536269999342"
      ]
     },
     "execution_count": 99,
     "metadata": {},
     "output_type": "execute_result"
    }
   ],
   "source": [
    "timeit.timeit(time_eval_interpolation_inplace_irregular, number=n_repeat)"
   ]
  },
  {
   "cell_type": "code",
   "execution_count": 100,
   "metadata": {},
   "outputs": [],
   "source": [
    "g1 = grid_irregular[0]\n",
    "g2 = grid_irregular[1]"
   ]
  },
  {
   "cell_type": "code",
   "execution_count": 101,
   "metadata": {},
   "outputs": [],
   "source": [
    "bilin = hitp.BilinearInterp(values, g1, g2)"
   ]
  },
  {
   "cell_type": "code",
   "execution_count": 102,
   "metadata": {},
   "outputs": [],
   "source": [
    "evalx = points[:, 0].copy()\n",
    "evaly = points[:, 1].copy()"
   ]
  },
  {
   "cell_type": "code",
   "execution_count": 103,
   "metadata": {},
   "outputs": [],
   "source": [
    "def time_eval_HARK_nosetup():\n",
    "    bilin(evalx, evaly)\n",
    "def time_eval_HARK():\n",
    "    bilin = hitp.BilinearInterp(values, g1, g2)\n",
    "    bilin(evalx, evaly)"
   ]
  },
  {
   "cell_type": "code",
   "execution_count": 104,
   "metadata": {},
   "outputs": [
    {
     "data": {
      "text/plain": [
       "2.5764393819999896"
      ]
     },
     "execution_count": 104,
     "metadata": {},
     "output_type": "execute_result"
    }
   ],
   "source": [
    "timeit.timeit(time_eval_HARK_nosetup, number=n_repeat)"
   ]
  },
  {
   "cell_type": "code",
   "execution_count": 105,
   "metadata": {},
   "outputs": [
    {
     "data": {
      "text/plain": [
       "2.5658931939997274"
      ]
     },
     "execution_count": 105,
     "metadata": {},
     "output_type": "execute_result"
    }
   ],
   "source": [
    "timeit.timeit(time_eval_HARK, number=n_repeat)"
   ]
  },
  {
   "cell_type": "code",
   "execution_count": 72,
   "metadata": {},
   "outputs": [],
   "source": [
    "from scipy.interpolate import RegularGridInterpolator\n",
    "pp = [g1, g2]\n",
    "rgi = RegularGridInterpolator(pp, values)\n",
    "rgi(points)\n",
    "def time_scipy():\n",
    "    rgi(points)"
   ]
  },
  {
   "cell_type": "code",
   "execution_count": 73,
   "metadata": {},
   "outputs": [
    {
     "data": {
      "text/plain": [
       "58.90418653699999"
      ]
     },
     "execution_count": 73,
     "metadata": {},
     "output_type": "execute_result"
    }
   ],
   "source": [
    "timeit.timeit(time_scipy, number=n_repeat)"
   ]
  },
  {
   "cell_type": "code",
   "execution_count": null,
   "metadata": {},
   "outputs": [],
   "source": []
  }
 ],
 "metadata": {
  "@webio": {
   "lastCommId": "10cf8cc93f80463d84a05cee0c7e0a0a",
   "lastKernelId": "786857f0-ba98-4553-873b-7bcfeccc876b"
  },
  "kernelspec": {
   "display_name": "Python 3",
   "language": "python",
   "name": "python3"
  },
  "language_info": {
   "codemirror_mode": {
    "name": "ipython",
    "version": 3
   },
   "file_extension": ".py",
   "mimetype": "text/x-python",
   "name": "python",
   "nbconvert_exporter": "python",
   "pygments_lexer": "ipython3",
   "version": "3.6.8"
  }
 },
 "nbformat": 4,
 "nbformat_minor": 2
}
