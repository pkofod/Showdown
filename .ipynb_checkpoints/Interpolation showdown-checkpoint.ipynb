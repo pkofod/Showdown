{
 "cells": [
  {
   "cell_type": "code",
   "execution_count": 1,
   "metadata": {},
   "outputs": [],
   "source": [
    "# Import numpy for numpy arrays and linspace\n",
    "import numpy as np\n",
    "\n",
    "# Import the two contestants\n",
    "import interpolation as itp\n",
    "from interpolation.splines import UCGrid, CGrid, nodes\n",
    "from interpolation.splines import eval_linear\n",
    "\n",
    "import HARK.interpolation as hitp\n",
    "\n",
    "# Import timeit module to compare runtimes\n",
    "import timeit"
   ]
  },
  {
   "cell_type": "code",
   "execution_count": 2,
   "metadata": {},
   "outputs": [],
   "source": [
    "# From manual, change to sum function to see what's what. This doesn't affect performance anyway\n",
    "# we interpolate function\n",
    "f = lambda x,y: x+y\n",
    "\n",
    "# uniform cartesian grid\n",
    "# slightly different from manual, easier to see the ij indexing this way\n",
    "grid = UCGrid((-3.0, 3.0, 10), (0.0, 3.0, 10))\n",
    "\n",
    "# get grid points\n",
    "gp = nodes(grid)   # 100x2 matrix\n",
    "\n",
    "# compute values on grid points\n",
    "values = f(gp[:,0], gp[:,1]).reshape((10,10)) # note that we're evaluating the flattened mesh"
   ]
  },
  {
   "cell_type": "code",
   "execution_count": 3,
   "metadata": {},
   "outputs": [
    {
     "data": {
      "text/plain": [
       "array([-3.        , -2.66666667, -2.33333333, -2.        , -1.66666667,\n",
       "       -1.33333333, -1.        , -0.66666667, -0.33333333,  0.        ])"
      ]
     },
     "execution_count": 3,
     "metadata": {},
     "output_type": "execute_result"
    }
   ],
   "source": [
    "# values are stored in (i,j) fashion where rows are indexed by first state\n",
    "# indeces, and columns vary with second dimension\n",
    "values[0]"
   ]
  },
  {
   "cell_type": "code",
   "execution_count": 4,
   "metadata": {},
   "outputs": [],
   "source": [
    "# This is the Matrix version of the mesh grid\n",
    "gp;"
   ]
  },
  {
   "cell_type": "code",
   "execution_count": 5,
   "metadata": {},
   "outputs": [
    {
     "name": "stdout",
     "output_type": "stream",
     "text": [
      "We allocate with default extrapolation.\n",
      "def eval_linear(grid, C, points):\n",
      "    \"This is my docstring\"\n",
      "\n",
      "\n",
      "    #recover grid parameters\n",
      "    # dim 0: uniform\n",
      "    a_0 = grid[0][0]\n",
      "    b_0 = grid[0][1]\n",
      "    n_0 = grid[0][2]\n",
      "    δ_0 = (n_0-1.0)/(b_0-a_0)\n",
      "    # dim 1: uniform\n",
      "    a_1 = grid[1][0]\n",
      "    b_1 = grid[1][1]\n",
      "    n_1 = grid[1][2]\n",
      "    δ_1 = (n_1-1.0)/(b_1-a_1)\n",
      "\n",
      "    # extract coordinates\n",
      "    x_0 = points[0]\n",
      "    x_1 = points[1]\n",
      "\n",
      "    # compute indices and barycentric coordinates\n",
      "    # dimension 0: uniform grid\n",
      "    u_0 = (x_0 - a_0)*δ_0\n",
      "    i_0 = int( floor( u_0 ) )\n",
      "    i_0 = max( min(i_0,n_0-2), 0 )\n",
      "    λ_0 = u_0-i_0\n",
      "    # dimension 1: uniform grid\n",
      "    u_1 = (x_1 - a_1)*δ_1\n",
      "    i_1 = int( floor( u_1 ) )\n",
      "    i_1 = max( min(i_1,n_1-2), 0 )\n",
      "    λ_1 = u_1-i_1\n",
      "\n",
      "    # Basis functions\n",
      "    Φ_0_0 = 1.0 - λ_0\n",
      "    Φ_0_1 = λ_0\n",
      "    Φ_1_0 = 1.0 - λ_1\n",
      "    Φ_1_1 = λ_1\n",
      "\n",
      "    val = Φ_0_0*(Φ_1_0*(C[i_0, i_1]) + Φ_1_1*(C[i_0, i_1 + 1])) + Φ_0_1*(Φ_1_0*(C[i_0 + 1, i_1]) + Φ_1_1*(C[i_0 + 1, i_1 + 1]))\n",
      "    return val\n",
      "\n",
      "\n"
     ]
    }
   ],
   "source": [
    "# interpolate at one point\n",
    "point = np.array([0.1,0.45]) # 1d array\n",
    "val = eval_linear(grid, values, point)  # float"
   ]
  },
  {
   "cell_type": "code",
   "execution_count": 63,
   "metadata": {},
   "outputs": [],
   "source": [
    "n_points = 100000\n",
    "n_repeat = 3000"
   ]
  },
  {
   "cell_type": "code",
   "execution_count": 55,
   "metadata": {},
   "outputs": [
    {
     "data": {
      "text/plain": [
       "array([1.42394206, 0.083649  , 1.18016613, ..., 1.06999913, 0.5817846 ,\n",
       "       0.55170954])"
      ]
     },
     "execution_count": 55,
     "metadata": {},
     "output_type": "execute_result"
    }
   ],
   "source": [
    "# interpolate at many points:\n",
    "points = np.random.random((n_points,2))\n",
    "eval_linear(grid, values, points) # 10000 vector"
   ]
  },
  {
   "cell_type": "code",
   "execution_count": 56,
   "metadata": {},
   "outputs": [],
   "source": [
    "# output can be preallocated\n",
    "out = np.zeros(n_points)\n",
    "eval_linear(grid, values, points, out)"
   ]
  },
  {
   "cell_type": "code",
   "execution_count": 57,
   "metadata": {},
   "outputs": [],
   "source": [
    "def time_eval_interpolation():\n",
    "    eval_linear(grid, values, points)\n",
    "def time_eval_interpolation_inplace():\n",
    "    eval_linear(grid, values, points, out)"
   ]
  },
  {
   "cell_type": "code",
   "execution_count": 64,
   "metadata": {},
   "outputs": [
    {
     "data": {
      "text/plain": [
       "2.607958926000265"
      ]
     },
     "execution_count": 64,
     "metadata": {},
     "output_type": "execute_result"
    }
   ],
   "source": [
    "timeit.timeit(time_eval_interpolation, number=n_repeat)"
   ]
  },
  {
   "cell_type": "code",
   "execution_count": 65,
   "metadata": {},
   "outputs": [
    {
     "data": {
      "text/plain": [
       "2.603684704999978"
      ]
     },
     "execution_count": 65,
     "metadata": {},
     "output_type": "execute_result"
    }
   ],
   "source": [
    "timeit.timeit(time_eval_interpolation_inplace, number=n_repeat)"
   ]
  },
  {
   "cell_type": "code",
   "execution_count": 66,
   "metadata": {},
   "outputs": [],
   "source": [
    "g1 = np.linspace(grid[0][0], grid[0][1], grid[0][2])\n",
    "g2 = np.linspace(grid[1][0], grid[1][1], grid[1][2])"
   ]
  },
  {
   "cell_type": "code",
   "execution_count": 67,
   "metadata": {},
   "outputs": [],
   "source": [
    "bilin = hitp.BilinearInterp(values, g1, g2)"
   ]
  },
  {
   "cell_type": "code",
   "execution_count": null,
   "metadata": {},
   "outputs": [],
   "source": [
    "evalx = points[:, 0].copy()\n",
    "evaly = points[:, 1].copy()"
   ]
  },
  {
   "cell_type": "code",
   "execution_count": null,
   "metadata": {},
   "outputs": [],
   "source": [
    "def time_eval_HARK_nosetup():\n",
    "    bilin(evalx, evaly)\n",
    "def time_eval_HARK():\n",
    "    bilin = hitp.BilinearInterp(values, g1, g2)\n",
    "    bilin(evalx, evaly)"
   ]
  },
  {
   "cell_type": "code",
   "execution_count": null,
   "metadata": {},
   "outputs": [],
   "source": [
    "timeit.timeit(time_eval_HARK_nosetup, number=n_repeat)"
   ]
  },
  {
   "cell_type": "code",
   "execution_count": null,
   "metadata": {},
   "outputs": [],
   "source": [
    "timeit.timeit(time_eval_HARK, number=n_repeat)"
   ]
  },
  {
   "cell_type": "code",
   "execution_count": null,
   "metadata": {},
   "outputs": [],
   "source": [
    "from scipy.interpolate import RegularGridInterpolator\n",
    "pp = [g1, g2]\n",
    "rgi = RegularGridInterpolator(pp, values)\n",
    "rgi(points)\n",
    "def time_scipy():\n",
    "    rgi(points)"
   ]
  },
  {
   "cell_type": "code",
   "execution_count": null,
   "metadata": {},
   "outputs": [],
   "source": [
    "timeit.timeit(time_scipy, number=n_repeat)"
   ]
  },
  {
   "cell_type": "code",
   "execution_count": null,
   "metadata": {},
   "outputs": [],
   "source": []
  }
 ],
 "metadata": {
  "@webio": {
   "lastCommId": "10cf8cc93f80463d84a05cee0c7e0a0a",
   "lastKernelId": "786857f0-ba98-4553-873b-7bcfeccc876b"
  },
  "kernelspec": {
   "display_name": "Python 3",
   "language": "python",
   "name": "python3"
  },
  "language_info": {
   "codemirror_mode": {
    "name": "ipython",
    "version": 3
   },
   "file_extension": ".py",
   "mimetype": "text/x-python",
   "name": "python",
   "nbconvert_exporter": "python",
   "pygments_lexer": "ipython3",
   "version": "3.6.8"
  }
 },
 "nbformat": 4,
 "nbformat_minor": 2
}
