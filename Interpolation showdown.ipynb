{
 "cells": [
  {
   "cell_type": "code",
   "execution_count": 103,
   "metadata": {},
   "outputs": [],
   "source": [
    "# Import numpy for numpy arrays and linspace\n",
    "import numpy as np\n",
    "\n",
    "# Import the two contestants\n",
    "import interpolation as itp\n",
    "from interpolation.splines import UCGrid, CGrid, nodes\n",
    "from interpolation.splines import eval_linear\n",
    "\n",
    "import HARK.interpolation as hitp\n",
    "\n",
    "# Import timeit module to compare runtimes\n",
    "import timeit"
   ]
  },
  {
   "cell_type": "code",
   "execution_count": 19,
   "metadata": {},
   "outputs": [],
   "source": [
    "# From manual, change to sum function to see what's what. This doesn't affect performance anyway\n",
    "# we interpolate function\n",
    "f = lambda x,y: x+y\n",
    "\n",
    "# uniform cartesian grid\n",
    "# slightly different from manual, easier to see the ij indexing this way\n",
    "grid = UCGrid((-3.0, 3.0, 10), (0.0, 3.0, 10))\n",
    "\n",
    "# get grid points\n",
    "gp = nodes(grid)   # 100x2 matrix\n",
    "\n",
    "# compute values on grid points\n",
    "values = f(gp[:,0], gp[:,1]).reshape((10,10)) # note that we're evaluating the flattened mesh"
   ]
  },
  {
   "cell_type": "code",
   "execution_count": 20,
   "metadata": {},
   "outputs": [
    {
     "data": {
      "text/plain": [
       "array([-3.        , -2.66666667, -2.33333333, -2.        , -1.66666667,\n",
       "       -1.33333333, -1.        , -0.66666667, -0.33333333,  0.        ])"
      ]
     },
     "execution_count": 20,
     "metadata": {},
     "output_type": "execute_result"
    }
   ],
   "source": [
    "# values are stored in (i,j) fashion where rows are indexed by first state\n",
    "# indeces, and columns vary with second dimension\n",
    "values[0]"
   ]
  },
  {
   "cell_type": "code",
   "execution_count": 102,
   "metadata": {},
   "outputs": [],
   "source": [
    "# This is the Matrix version of the mesh grid\n",
    "gp;"
   ]
  },
  {
   "cell_type": "code",
   "execution_count": 28,
   "metadata": {},
   "outputs": [],
   "source": [
    "# interpolate at one point\n",
    "point = np.array([0.1,0.45]) # 1d array\n",
    "val = eval_linear(grid, values, point)  # float"
   ]
  },
  {
   "cell_type": "code",
   "execution_count": 31,
   "metadata": {},
   "outputs": [
    {
     "data": {
      "text/plain": [
       "0.55"
      ]
     },
     "execution_count": 31,
     "metadata": {},
     "output_type": "execute_result"
    }
   ],
   "source": [
    "val"
   ]
  },
  {
   "cell_type": "code",
   "execution_count": 29,
   "metadata": {},
   "outputs": [
    {
     "data": {
      "text/plain": [
       "array([1.19498449, 0.97117762, 0.80262839, ..., 1.545538  , 1.41131866,\n",
       "       1.68321715])"
      ]
     },
     "execution_count": 29,
     "metadata": {},
     "output_type": "execute_result"
    }
   ],
   "source": [
    "# interpolate at many points:\n",
    "points = np.random.random((10000,2))\n",
    "eval_linear(grid, values, points) # 10000 vector"
   ]
  },
  {
   "cell_type": "code",
   "execution_count": 30,
   "metadata": {},
   "outputs": [],
   "source": [
    "# output can be preallocated\n",
    "out = np.zeros(10000)\n",
    "eval_linear(grid, values, points, out) # 10000 vector"
   ]
  },
  {
   "cell_type": "code",
   "execution_count": 46,
   "metadata": {},
   "outputs": [],
   "source": [
    "def time_eval_interpolation():\n",
    "    eval_linear(grid, values, points)\n",
    "def time_eval_interpolation_inplace():\n",
    "    eval_linear(grid, values, points, out)"
   ]
  },
  {
   "cell_type": "code",
   "execution_count": 88,
   "metadata": {},
   "outputs": [
    {
     "data": {
      "text/plain": [
       "0.17274195600020903"
      ]
     },
     "execution_count": 88,
     "metadata": {},
     "output_type": "execute_result"
    }
   ],
   "source": [
    "timeit.timeit(time_eval_interpolation, number=3000)"
   ]
  },
  {
   "cell_type": "code",
   "execution_count": 56,
   "metadata": {},
   "outputs": [
    {
     "data": {
      "text/plain": [
       "0.16264872800002195"
      ]
     },
     "execution_count": 56,
     "metadata": {},
     "output_type": "execute_result"
    }
   ],
   "source": [
    "timeit.timeit(time_eval_interpolation_inplace, number=3000)"
   ]
  },
  {
   "cell_type": "code",
   "execution_count": 72,
   "metadata": {},
   "outputs": [],
   "source": [
    "g1 = np.linspace(grid[0][0], grid[0][1], grid[0][2])\n",
    "g2 = np.linspace(grid[1][0], grid[1][1], grid[1][2])"
   ]
  },
  {
   "cell_type": "code",
   "execution_count": 75,
   "metadata": {},
   "outputs": [],
   "source": [
    "bilin = hitp.BilinearInterp(values, g1, g2)"
   ]
  },
  {
   "cell_type": "code",
   "execution_count": 81,
   "metadata": {},
   "outputs": [],
   "source": [
    "evalx = points[:, 0]\n",
    "evaly = points[:, 1]"
   ]
  },
  {
   "cell_type": "code",
   "execution_count": 99,
   "metadata": {},
   "outputs": [],
   "source": [
    "def time_eval_HARK_nosetup():\n",
    "    bilin(evalx, evaly)\n",
    "def time_eval_HARK():\n",
    "    bilin = hitp.BilinearInterp(values, g1, g2)\n",
    "    bilin(evalx, evaly)"
   ]
  },
  {
   "cell_type": "code",
   "execution_count": 100,
   "metadata": {},
   "outputs": [
    {
     "data": {
      "text/plain": [
       "1.9855750030001218"
      ]
     },
     "execution_count": 100,
     "metadata": {},
     "output_type": "execute_result"
    }
   ],
   "source": [
    "timeit.timeit(time_eval_HARK_nosetup, number=3000)"
   ]
  },
  {
   "cell_type": "code",
   "execution_count": 101,
   "metadata": {},
   "outputs": [
    {
     "data": {
      "text/plain": [
       "1.9708793750005498"
      ]
     },
     "execution_count": 101,
     "metadata": {},
     "output_type": "execute_result"
    }
   ],
   "source": [
    "timeit.timeit(time_eval_HARK, number=3000)"
   ]
  },
  {
   "cell_type": "code",
   "execution_count": 107,
   "metadata": {},
   "outputs": [],
   "source": [
    "from scipy.interpolate import RegularGridInterpolator\n",
    "pp = [g1, g2]\n",
    "rgi = RegularGridInterpolator(pp, values)\n",
    "rgi(points)\n",
    "def time_scipy():\n",
    "    rgi(points)"
   ]
  },
  {
   "cell_type": "code",
   "execution_count": 112,
   "metadata": {},
   "outputs": [
    {
     "data": {
      "text/plain": [
       "2.864653990000079"
      ]
     },
     "execution_count": 112,
     "metadata": {},
     "output_type": "execute_result"
    }
   ],
   "source": [
    "timeit.timeit(time_scipy, number=3000)"
   ]
  },
  {
   "cell_type": "code",
   "execution_count": null,
   "metadata": {},
   "outputs": [],
   "source": []
  }
 ],
 "metadata": {
  "@webio": {
   "lastCommId": "e1991211cace47b1b813498780f6219c",
   "lastKernelId": "d65dba68-e624-431a-9981-030884be1dd1"
  },
  "kernelspec": {
   "display_name": "Python 3",
   "language": "python",
   "name": "python3"
  },
  "language_info": {
   "codemirror_mode": {
    "name": "ipython",
    "version": 3
   },
   "file_extension": ".py",
   "mimetype": "text/x-python",
   "name": "python",
   "nbconvert_exporter": "python",
   "pygments_lexer": "ipython3",
   "version": "3.6.5"
  }
 },
 "nbformat": 4,
 "nbformat_minor": 2
}
